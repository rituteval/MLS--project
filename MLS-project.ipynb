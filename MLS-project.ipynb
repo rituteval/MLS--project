{
 "cells": [
  {
   "cell_type": "markdown",
   "metadata": {},
   "source": [
    "## MLS-- project\n",
    "\n",
    "#### Instructions:\n",
    "\n",
    "In this project you must create a web service that uses machine learning to make predictions based on the data set powerproduction available on Moodle.\n",
    "The goal: produce a model that accurately predicts wind turbine power output from wind speed values, as in the data set.\n",
    "I must then develop a web service that will respond with predicted power values based on speed values sent as HTTP requests. \n",
    "\n",
    "\n",
    "I have to use few librarys ; for this project:\n",
    "\n",
    "1. Jupyter notebook that trains a model using the data set. In the notebook you\n",
    "should explain your model and give an analysis of its accuracy.\n",
    "2. Python script that runs a web service based on the model, as above.\n",
    "3. Dockerfile to build and run the web service in a container.\n"
   ]
  },
  {
   "cell_type": "markdown",
   "metadata": {},
   "source": [
    "To start my project I have to import librarys. "
   ]
  },
  {
   "cell_type": "code",
   "execution_count": null,
   "metadata": {},
   "outputs": [],
   "source": [
    "import pandas as pd # Imported pandas for data frames.\n",
    "\n",
    "import matplotlib.pyplot as plt # Imported matplotlib for plotting the data sets.\n",
    "\n",
    "import seaborn as sns # Seaborn for more complex plotting.\n",
    "\n",
    "import keras as kr\n",
    "import numpy as np\n",
    "from tensorflow import keras\n",
    "from tensorflow.keras import layers\n"
   ]
  }
 ],
 "metadata": {
  "kernelspec": {
   "display_name": "Python 3",
   "language": "python",
   "name": "python3"
  },
  "language_info": {
   "codemirror_mode": {
    "name": "ipython",
    "version": 3
   },
   "file_extension": ".py",
   "mimetype": "text/x-python",
   "name": "python",
   "nbconvert_exporter": "python",
   "pygments_lexer": "ipython3",
   "version": "3.7.4"
  }
 },
 "nbformat": 4,
 "nbformat_minor": 2
}
